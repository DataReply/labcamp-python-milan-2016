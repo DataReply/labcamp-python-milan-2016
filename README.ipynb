{
 "cells": [
  {
   "cell_type": "markdown",
   "metadata": {},
   "source": [
    "# README\n",
    "### Details\n",
    "#### Technical Requirements: \n",
    "Students will use Jupyter Notebooks hosted on a gcloud instance.  Therefore, students will only need a modern web-browser (e.g. chrome) and a stable internet connection.\n",
    "#### Preparation:\n",
    "Take 30 minutes ahead of the class to learn python syntax basics at an interactive learn to program site like CodeAcademy (https://www.codecademy.com/learn/python)\n",
    "#### Number of Participants:\n",
    "form 10 to 30 Replyers (no contractor, no collaborator).\n",
    "Registration: participation open, upon registration.\n",
    "#### Date: \n",
    "May 25, 2016\n",
    "#### Duration: \n",
    "3 hours (not including preparatory time).\n",
    "#### Aim: \n",
    "Hands-on seminar for internal knowledge sharing on specific technological topics.\n",
    "\n",
    "### BEFORE EVENT:\n",
    "Event details & Registration online \n",
    "\n",
    "### EVENT AGENDA:\n",
    "* 17.00 – 17.15\tGroup Introductions, Connecting to Online Jupyter Notebooks (python in the cloud)\n",
    "* 17.15 – 17.45\tPython Intro – primitive datatypes, pandas dataframes, etc. \n",
    "* 17.45 – 17.55\tPython Exercises\n",
    "* (break)\n",
    "* 18.00 – 18.45\tClassification, everything you need to know\n",
    "* 18.45 – 19.00\tIntro to Image Classification\n",
    "* (break)\n",
    "* 19.05 – 19.45\tBuild Your Own Simple Image Classifier (basic example = digit recognition)\n",
    "* 19.45 – 20.00\tImage Classifier Show and Tell – Wrap Up\n",
    "* 20.00 \t\tCatering\n",
    "\n",
    "#### AFTER EVENT: \n",
    "Follow-up page + Satisfaction survey  \n",
    "\n",
    "The above agenda can change according to the trainer’s needs.\n",
    "\n",
    "Example Special Page \n",
    "https://tamtamy.reply.eu/tamtamy/page/Labcamps.action\n",
    "\n",
    "Location (indoor) \n",
    "1.\tOnline workspace area for preliminary activities/reference materials repository \n",
    "2.\tDedicated meeting room at Reply Offices\n",
    "\n",
    "Magic Ingredients: Your passion on the topic!"
   ]
  },
  {
   "cell_type": "code",
   "execution_count": null,
   "metadata": {
    "collapsed": true
   },
   "outputs": [],
   "source": []
  }
 ],
 "metadata": {
  "kernelspec": {
   "display_name": "Python 2",
   "language": "python",
   "name": "python2"
  },
  "language_info": {
   "codemirror_mode": {
    "name": "ipython",
    "version": 2
   },
   "file_extension": ".py",
   "mimetype": "text/x-python",
   "name": "python",
   "nbconvert_exporter": "python",
   "pygments_lexer": "ipython2",
   "version": "2.7.11"
  }
 },
 "nbformat": 4,
 "nbformat_minor": 0
}
