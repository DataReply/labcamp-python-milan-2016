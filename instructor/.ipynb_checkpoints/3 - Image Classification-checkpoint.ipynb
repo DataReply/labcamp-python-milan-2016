{
 "cells": [
  {
   "cell_type": "markdown",
   "metadata": {},
   "source": [
    "# Hour 3: Introduction to Image Classificaiton:\n",
    "Python and Classification Labcamp - Milano, 25/05/2016\n",
    "\n",
    "Alex Loosley (a.loosley@reply.de)\n",
    "<br>Alex Salles (a.salles@reply.de)"
   ]
  },
  {
   "cell_type": "markdown",
   "metadata": {},
   "source": [
    "## Image Classification\n",
    "Now that we've learned how to munge data with pandas (get *X_train*, *y_train*), and train classifiers with sklearn (*clf.train(X_train, y_train)*), let's do some image classification!"
   ]
  },
  {
   "cell_type": "markdown",
   "metadata": {},
   "source": [
    "### Image Feature Engineering:\n",
    "How do we build an **X** to describe images?  Put another way, how does one engineer features for images?  With the flowers we had Sepal/Pedal size measurements.  What can we measure with images?\n",
    "* Pixel Intensities?\n",
    "* Shapes?\n",
    "* Percent Dark Space?\n",
    "* *etc.* ... something else based on domain knowledge?\n",
    "\n",
    "<img src=\"https://upload.wikimedia.org/wikipedia/commons/7/78/Petal-sepal.jpg\" width=\"300\">"
   ]
  },
  {
   "cell_type": "markdown",
   "metadata": {},
   "source": [
    "### SIFT FEATURES:\n",
    "[SIFT](http://docs.opencv.org/3.1.0/da/df5/tutorial_py_sift_intro.html#gsc.tab=0) stands for Scale Invariant Feature Transformation.  They were invented to pull descriptive features from images that do not depend on scale, rotation, absolute brightness (assuming image isn't saturated), *etc.*"
   ]
  },
  {
   "cell_type": "markdown",
   "metadata": {},
   "source": [
    "#### Examples of SIFT features:\n",
    "OpenCV (open source image processing library with many great features) not compiled on gcloud instance:\n",
    "[Link to Working Demo for SURF features](http://localhost:8891/notebooks/src/ImagesToSURF.ipynb)"
   ]
  },
  {
   "cell_type": "markdown",
   "metadata": {},
   "source": [
    "# Building Our Own Image Classifier:\n",
    "Here a bunch of stuff will happen to give you **X** and **y**.  Your job will be, have fun with this code, try to train other image classifiers, and make new predictions with your models."
   ]
  },
  {
   "cell_type": "code",
   "execution_count": null,
   "metadata": {
    "collapsed": false
   },
   "outputs": [],
   "source": [
    "import os\n",
    "\n",
    "import shutil\n",
    "\n",
    "import numpy as np\n",
    "%matplotlib inline\n",
    "import matplotlib.pylab as plt\n",
    "import mahotas as mh\n",
    "import pandas as pd\n",
    "\n",
    "from mahotas.features import surf\n",
    "from sklearn.linear_model import LogisticRegression\n",
    "from sklearn.metrics import *\n",
    "from sklearn.cluster import KMeans, MiniBatchKMeans\n",
    "from sklearn.utils import shuffle\n",
    "import glob"
   ]
  },
  {
   "cell_type": "markdown",
   "metadata": {},
   "source": [
    "## Load Images and Calculate SURF features (Faster Version of SIFT)\n",
    "Create n by (m_n by k) list of arrays: (n=num_images, m_n=num_features per image, k=feature_dimensionality)\n",
    "<br> Each item in this list represents an image, each row is a 65 dimensional SURF feature"
   ]
  },
  {
   "cell_type": "code",
   "execution_count": null,
   "metadata": {
    "collapsed": true
   },
   "outputs": [],
   "source": [
    "# Get images file names and targets:\n",
    "def get_filenames_and_targets(folder1, folder2, truncate_after=100):\n",
    "    # Data set 1:\n",
    "    set1_filenames = []\n",
    "    for count, f in enumerate(glob.glob(folder1+'*.jpg')):\n",
    "        set1_filenames.append(f)\n",
    "        \n",
    "        # stop for loop at some point if too many files:\n",
    "        if count>truncate_after:\n",
    "            break\n",
    "    set1_targets = [1]*len(set1_filenames)\n",
    "\n",
    "    # Data set 2:\n",
    "    set2_filenames = []\n",
    "    for count, f in enumerate(glob.glob(folder2+'*.jpg')):\n",
    "        set2_filenames.append(f)\n",
    "        \n",
    "        # stop for loop at some point if too many files:\n",
    "        if count>truncate_after:\n",
    "            break\n",
    "    set2_targets = [0]*len(set2_filenames)\n",
    "    \n",
    "    # Concatenate everything together into one dataset:\n",
    "    return (set1_filenames+set2_filenames), (set1_targets+set2_targets)"
   ]
  },
  {
   "cell_type": "markdown",
   "metadata": {},
   "source": [
    "# CHOOSE YOUR DATASETs\n",
    "(images should be organized into two different folders, *e.g.* '../data/dogs/', '../data/cats/')"
   ]
  },
  {
   "cell_type": "code",
   "execution_count": null,
   "metadata": {
    "collapsed": true
   },
   "outputs": [],
   "source": [
    "# Concatenate everything together into one dataset:\n",
    "all_instance_filenames, all_instance_targets = get_filenames_and_targets('../data/dogs/', '../data/cats/')"
   ]
  },
  {
   "cell_type": "markdown",
   "metadata": {},
   "source": [
    "### Generate X_train, y_train, X_test, and y_test:"
   ]
  },
  {
   "cell_type": "code",
   "execution_count": null,
   "metadata": {
    "collapsed": false
   },
   "outputs": [],
   "source": [
    "surf_features = []\n",
    "counter = 0\n",
    "for idx, f in enumerate(all_instance_filenames):\n",
    "    if idx % 100 == 0:\n",
    "        print '.'\n",
    "    image = mh.imread(f, as_grey=True)\n",
    "    surf_features.append(surf.surf(image)[:,5:]) \n",
    "    # Above is a n X (m_n X k) list (n=num_images, m_n=num_features per image, k=feature_dimensionality)\n",
    "\n",
    "train_len = int(len(all_instance_filenames)*.6)\n",
    "surf_features, all_instance_targets = shuffle(surf_features, all_instance_targets)\n",
    "\n",
    "X_train_surf_features = np.concatenate(surf_features[:train_len])\n",
    "X_test_surf_features = np.concatenate(surf_features[train_len:])\n",
    "y_train = all_instance_targets[:train_len]\n",
    "y_test = all_instance_targets[train_len:]\n",
    "\n",
    "# Cluster Features to reduce dimensionality:\n",
    "n_clusters=300\n",
    "print 'Clustering', len(X_train_surf_features), 'features'\n",
    "estimator = MiniBatchKMeans(n_clusters=n_clusters)\n",
    "estimator.fit_transform(X_train_surf_features) # Get 300 clusters of 65 dimensional SURF vectors \n",
    "# from the 1,517,484 training instances of SURF vectors\n",
    "\n",
    "X_train = []\n",
    "for instance in surf_features[:train_len]:\n",
    "    if instance.shape[0] > 0:\n",
    "        clusters = estimator.predict(instance) # deterime the cluster that each SURF feature belongs to, in each training instance\n",
    "    features = np.bincount(clusters) # create histogram of the number of features corresponding to each of the 300 clusters\n",
    "    if len(features) < n_clusters:\n",
    "        features = np.append(features, np.zeros((1, n_clusters-len(features))))\n",
    "    X_train.append(features)\n",
    "    \n",
    "X_test = []\n",
    "for instance in surf_features[train_len:]:\n",
    "    if instance.shape[0] > 0:\n",
    "        clusters = estimator.predict(instance) # deterime the cluster that each SURF feature belongs to, in each training instance\n",
    "    features = np.bincount(clusters) # create histogram of the number of features corresponding to each of the 300 clusters\n",
    "    if len(features) < n_clusters:\n",
    "        features = np.append(features, np.zeros((1, n_clusters-len(features))))\n",
    "    X_test.append(features)"
   ]
  },
  {
   "cell_type": "markdown",
   "metadata": {},
   "source": [
    "# Use X_train and y_train to train a classifier:\n",
    "How about Logisitic Regression?"
   ]
  },
  {
   "cell_type": "code",
   "execution_count": null,
   "metadata": {
    "collapsed": false
   },
   "outputs": [],
   "source": [
    "clf = LogisticRegression(C=0.001, penalty='l2')\n",
    "clf.fit_transform(X_train, y_train)\n",
    "predictions = clf.predict(X_test)\n",
    "print classification_report(y_test, predictions)"
   ]
  },
  {
   "cell_type": "markdown",
   "metadata": {},
   "source": [
    "# Prediction API:"
   ]
  },
  {
   "cell_type": "code",
   "execution_count": null,
   "metadata": {
    "collapsed": true
   },
   "outputs": [],
   "source": [
    "def predict(clf, file_path):\n",
    "    X_SURF = surf.surf(mh.imread(file_path,as_grey=True))[:,5:]\n",
    "    X_new_prediction = np.bincount(estimator.predict(X_SURF))\n",
    "    if len(X_new_prediction)<n_clusters:\n",
    "        X_new_prediction = np.append(X_new_prediction, np.zeros((1, n_clusters-len(X_new_prediction))))\n",
    "        \n",
    "    plt.imshow(mh.imread(file_path, as_grey=True), cmap='gray')\n",
    "    return clf.predict(X_new_prediction)"
   ]
  },
  {
   "cell_type": "code",
   "execution_count": null,
   "metadata": {
    "collapsed": false
   },
   "outputs": [],
   "source": [
    "predict(clf, '../data/cats/cat.3.jpg')"
   ]
  },
  {
   "cell_type": "markdown",
   "metadata": {},
   "source": [
    "# Can you get better results with another model?\n",
    "Hint: Sklearn API is standardized for all models, therefore one can train other classifiers just like one trained the logistic regression classifier above.\n",
    "\n",
    "(Hints Below)"
   ]
  },
  {
   "cell_type": "markdown",
   "metadata": {},
   "source": [
    "# Find another dataset of images online, can you train another cool image classifier?\n",
    "1. Find images online (for example [here](https://www.google.it/?client=firefox-b-ab#q=labelled+image+datasets))\n",
    "    1. If calculating SURF features takes too long for your image set, limit the number of pictures you train with.\n",
    "1. Upload them to our class instance, place all images of a single label in a specific folder under */data/[custer folder_name]*.\n",
    "    1. If they're less than 25mb, one can upload directly with jupyter interface.\n",
    "    1. If images are more than 25mb, give the link to me and I will download them to our class instance\n",
    "1. Point your binary classification model to train from */data/[custer folder_name]* and test the results\n",
    "1. Test your model on picture of yourself or something else fun :-)\n",
    "\n",
    "We'll see how you do at the end, who was most creative or trained the best model?"
   ]
  },
  {
   "cell_type": "code",
   "execution_count": null,
   "metadata": {
    "collapsed": true
   },
   "outputs": [],
   "source": []
  },
  {
   "cell_type": "code",
   "execution_count": null,
   "metadata": {
    "collapsed": true
   },
   "outputs": [],
   "source": []
  },
  {
   "cell_type": "code",
   "execution_count": null,
   "metadata": {
    "collapsed": true
   },
   "outputs": [],
   "source": []
  },
  {
   "cell_type": "code",
   "execution_count": null,
   "metadata": {
    "collapsed": true
   },
   "outputs": [],
   "source": []
  },
  {
   "cell_type": "code",
   "execution_count": null,
   "metadata": {
    "collapsed": true
   },
   "outputs": [],
   "source": []
  },
  {
   "cell_type": "code",
   "execution_count": null,
   "metadata": {
    "collapsed": true
   },
   "outputs": [],
   "source": []
  },
  {
   "cell_type": "code",
   "execution_count": null,
   "metadata": {
    "collapsed": true
   },
   "outputs": [],
   "source": []
  },
  {
   "cell_type": "code",
   "execution_count": null,
   "metadata": {
    "collapsed": true
   },
   "outputs": [],
   "source": []
  },
  {
   "cell_type": "code",
   "execution_count": null,
   "metadata": {
    "collapsed": true
   },
   "outputs": [],
   "source": []
  },
  {
   "cell_type": "code",
   "execution_count": null,
   "metadata": {
    "collapsed": true
   },
   "outputs": [],
   "source": []
  },
  {
   "cell_type": "markdown",
   "metadata": {
    "collapsed": true
   },
   "source": [
    "### Hints:\n",
    "\n",
    "-    KNeighborsClassifier(3),\n",
    "-    SVC(kernel=\"linear\", C=0.025),\n",
    "-    SVC(gamma=2, C=1),\n",
    "-    DecisionTreeClassifier(max_depth=5),\n",
    "-    RandomForestClassifier(max_depth=5, n_estimators=10, max_features=1),\n",
    "-    AdaBoostClassifier(),\n",
    "-    GaussianNB(),\n",
    "\n",
    "see sklearn documentation [here](http://scikit-learn.org/stable/auto_examples/classification/plot_classifier_comparison.html) for details on how to use these models, and what they are."
   ]
  }
 ],
 "metadata": {
  "kernelspec": {
   "display_name": "Python 2",
   "language": "python",
   "name": "python2"
  },
  "language_info": {
   "codemirror_mode": {
    "name": "ipython",
    "version": 2
   },
   "file_extension": ".py",
   "mimetype": "text/x-python",
   "name": "python",
   "nbconvert_exporter": "python",
   "pygments_lexer": "ipython2",
   "version": "2.7.10"
  }
 },
 "nbformat": 4,
 "nbformat_minor": 0
}
