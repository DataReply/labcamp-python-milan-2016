{
 "cells": [
  {
   "cell_type": "code",
   "execution_count": 1,
   "metadata": {
    "collapsed": true
   },
   "outputs": [],
   "source": [
    "import os\n",
    "import shutil"
   ]
  },
  {
   "cell_type": "code",
   "execution_count": 2,
   "metadata": {
    "collapsed": false
   },
   "outputs": [],
   "source": [
    "def register_user(startup_folder='instructor'):\n",
    "    # Request a user name:\n",
    "    user = raw_input(\"What's your user name? \")\n",
    "    \n",
    "    # Check if user already exists, otherwise ask for a new user name:\n",
    "    if user in os.listdir('.'):\n",
    "        print(\"%s already in use, please choose another username...\" % user)\n",
    "        register_user()\n",
    "        return\n",
    "    \n",
    "    # Make new user directory:\n",
    "    os.mkdir(user)\n",
    "    \n",
    "    # Copy load files:\n",
    "    for f in os.listdir(startup_folder):\n",
    "        try:\n",
    "            shutil.copy(\n",
    "                ('./%s/%s' % (startup_folder, f)), ('./%s' % user)\n",
    "            )\n",
    "        except IOError:\n",
    "            pass\n",
    "        print('%s copied...' % f)\n",
    "    print('User Registration Complete!')\n",
    "    print('--')\n",
    "    "
   ]
  },
  {
   "cell_type": "code",
   "execution_count": 3,
   "metadata": {
    "collapsed": false
   },
   "outputs": [
    {
     "name": "stdout",
     "output_type": "stream",
     "text": [
      "What's your user name? giulia\n",
      ".ipynb_checkpoints copied...\n",
      "3 - Image Classification.ipynb copied...\n",
      "1 - Python+Pandas Introduction.ipynb copied...\n",
      "2 - Classification Introduction.ipynb copied...\n",
      "User Registration Complete!\n",
      "--\n"
     ]
    }
   ],
   "source": [
    "register_user()"
   ]
  },
  {
   "cell_type": "code",
   "execution_count": null,
   "metadata": {
    "collapsed": true
   },
   "outputs": [],
   "source": []
  }
 ],
 "metadata": {
  "kernelspec": {
   "display_name": "Python 2",
   "language": "python",
   "name": "python2"
  },
  "language_info": {
   "codemirror_mode": {
    "name": "ipython",
    "version": 2
   },
   "file_extension": ".py",
   "mimetype": "text/x-python",
   "name": "python",
   "nbconvert_exporter": "python",
   "pygments_lexer": "ipython2",
   "version": "2.7.11"
  }
 },
 "nbformat": 4,
 "nbformat_minor": 0
}
